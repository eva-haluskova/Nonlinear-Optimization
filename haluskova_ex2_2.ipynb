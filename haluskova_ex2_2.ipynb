{
  "nbformat": 4,
  "nbformat_minor": 0,
  "metadata": {
    "colab": {
      "provenance": []
    },
    "kernelspec": {
      "name": "python3",
      "display_name": "Python 3"
    },
    "language_info": {
      "name": "python"
    }
  },
  "cells": [
    {
      "cell_type": "markdown",
      "source": [
        "# Task 2"
      ],
      "metadata": {
        "id": "E_4mJysP_DEt"
      }
    },
    {
      "cell_type": "markdown",
      "source": [
        "Use bisection search to optimize the problem:\n",
        "\n",
        "![image.png](data:image/png;base64,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)\n",
        "\n",
        "Code the search algorithm by yourself, not use the one shown in the lecture material."
      ],
      "metadata": {
        "id": "wmV4GyONAISV"
      }
    },
    {
      "cell_type": "code",
      "source": [
        "def function_one(x):\n",
        "  return (1-x)**2 + x"
      ],
      "metadata": {
        "id": "_CtHOzZUJuAq"
      },
      "execution_count": null,
      "outputs": []
    },
    {
      "cell_type": "markdown",
      "source": [
        "My implementation of bisection method"
      ],
      "metadata": {
        "id": "7p4DtOOHGHNJ"
      }
    },
    {
      "cell_type": "code",
      "source": [
        "# as input are:\n",
        "# starding and ending point of interval - a, b\n",
        "# stopping criteria - if change of function values between iterations is lower as some threshold - stop\n",
        "# epsilon value for checking neighbourhood value of function - epsilon\n",
        "# and of course function where we want to find local minimum - function\n",
        "def bisection_method(a, b, stop, epsilon, function):\n",
        "  # checks of inputs\n",
        "  if (stop <= 0 or epsilon <= 0):\n",
        "    return -1\n",
        "  # implementation\n",
        "  optimum = 0\n",
        "  fa,fb,oldfa,oldfb = 1000000, 1000000, 10000, 10000\n",
        "  iterations = 0\n",
        "  while((abs(oldfa-fa)) > stop or abs(oldfb-fb) > stop):\n",
        "    middle_point = (a + b) / 2\n",
        "    lower_point = middle_point - epsilon\n",
        "    upper_point = middle_point + epsilon\n",
        "    oldfa = fa\n",
        "    oldfb = fb\n",
        "    fa = function(lower_point)\n",
        "    fb = function(upper_point)\n",
        "\n",
        "    if (fa < fb):\n",
        "      b = middle_point\n",
        "    else:\n",
        "      a = middle_point\n",
        "    iterations += 1\n",
        "  optimum = (a + b) / 2\n",
        "  return optimum, iterations"
      ],
      "metadata": {
        "id": "BLTZeoM3QApm"
      },
      "execution_count": null,
      "outputs": []
    },
    {
      "cell_type": "markdown",
      "source": [
        "Just for comparison of my implementation and implementation from lecutre, i paste this implementation, but i also implemented here counter of iterations."
      ],
      "metadata": {
        "id": "flVAmyupb4pJ"
      }
    },
    {
      "cell_type": "code",
      "source": [
        "def bisection_line_search(a,b,f,L,epsilon):\n",
        "    x = a\n",
        "    y = b\n",
        "    iterations = 0\n",
        "    while y-x > 2*L:\n",
        "        m = (x+y)/2\n",
        "        if f(m+epsilon) > f(m-epsilon):\n",
        "            y = m + epsilon\n",
        "        else:\n",
        "            x = m - epsilon\n",
        "        iterations +=1\n",
        "    return (x+y)/2, iterations"
      ],
      "metadata": {
        "id": "SZgaCKn8b3yq"
      },
      "execution_count": null,
      "outputs": []
    },
    {
      "cell_type": "markdown",
      "source": [
        "Results:"
      ],
      "metadata": {
        "id": "yCcsp2NCfQrE"
      }
    },
    {
      "cell_type": "code",
      "source": [
        "res_my = bisection_method(0,2,0.001,1e-5,function_one)\n",
        "\n",
        "if (res_my == -1):\n",
        "  print(\"Incorrect input!\")\n",
        "else:\n",
        "  optimum_my = res_my[0]\n",
        "  iterations_my = res_my[1]\n",
        "\n",
        "  res_lecture = bisection_line_search(0,2,function_one,0.001,1e-5)\n",
        "  optimum_lecture = res_lecture[0]\n",
        "  iterations_lecture = res_lecture[1]\n",
        "\n",
        "  print(f\"My optimal point of function f(x) = (1-x)^2 - x in interval: [0,2] is {optimum_my} and number of iterations: {iterations_my}.\")\n",
        "  print(f\"Lecture optimal point of function f(x) = (1-x)^2 - x in interval: [0,2] is {optimum_lecture} and number of iterations: {iterations_lecture}.\")"
      ],
      "metadata": {
        "colab": {
          "base_uri": "https://localhost:8080/"
        },
        "id": "URU8OfL5J8Mq",
        "outputId": "067edf53-2c67-4b53-bde0-b0be3894a019"
      },
      "execution_count": null,
      "outputs": [
        {
          "output_type": "stream",
          "name": "stdout",
          "text": [
            "My optimal point of function f(x) = (1-x)^2 - x in interval: [0,2] is 0.5078125 and number of iterations: 7.\n",
            "Lecture optimal point of function f(x) = (1-x)^2 - x in interval: [0,2] is 0.499028447265625 and number of iterations: 10.\n"
          ]
        }
      ]
    },
    {
      "cell_type": "markdown",
      "source": [
        "# Task 3"
      ],
      "metadata": {
        "id": "2LEgrp1TAcSP"
      }
    },
    {
      "cell_type": "markdown",
      "source": [
        "Use the golden section search to optimize the problem from the above exercise. Code the search algorithm by yourself, not use the one shown in the lecture material."
      ],
      "metadata": {
        "id": "xsHBAUJoAg3g"
      }
    },
    {
      "cell_type": "markdown",
      "metadata": {
        "nbpresent": {
          "id": "0730781e-eb68-4493-93ca-e2905e30e9b7"
        },
        "id": "Zf4yuW2EA0c5"
      },
      "source": [
        "### Golden section\n",
        "\n",
        "Let $a<c<b$ be such that $\\frac{b-a}{c-a}=\\frac{c-a}{b-c}$. Then it is said that the point $c$ devides interval $[a,b]$ in the ratio of golden section (from the left, mirror from the right). Note that $c=a+\\frac{\\sqrt{5}-1}2(b-a)\\approx a+0.618(b-a)$.\n",
        "\n",
        "There is a theorem that if $a<c<d<b$ and both points $c$ and $d$ divide the interval $[a,b]$ in the ratio of golden section (from right and left), then the point $c$ divides the interval $[a,d]$ in the ratio of golden section from the left.\n"
      ]
    },
    {
      "cell_type": "code",
      "source": [
        "import math\n",
        "# function for calculate point in the ration of golden section from two points\n",
        "def golden_ratio(a,b):\n",
        "  prem = (math.sqrt(5) - 1) / 2\n",
        "  return a + prem * (b - a)"
      ],
      "metadata": {
        "id": "lYZ7rPFaSAWq"
      },
      "execution_count": null,
      "outputs": []
    },
    {
      "cell_type": "markdown",
      "source": [
        "My implementation of golden section method"
      ],
      "metadata": {
        "id": "aCGuxJcwfFrV"
      }
    },
    {
      "cell_type": "code",
      "execution_count": null,
      "metadata": {
        "id": "suEekgIvctz3"
      },
      "outputs": [],
      "source": [
        "# as input shoud be:\n",
        "# starding and ending point of interval - a, b\n",
        "# some stopping criteria - a and b are closer that some threshold - stop\n",
        "# and of course function where we want to find local minimum - function\n",
        "def golden_section_method(a, b, stop, function):\n",
        "  # check input\n",
        "  if (stop <= 0):\n",
        "    return -1\n",
        "\n",
        "  fc,fd,oldfc,oldfd = 1000000,1000000,10000,10000\n",
        "  iterations = 0\n",
        "\n",
        "  while((abs(oldfc-fc)) > stop or abs(oldfd-fd) > stop):\n",
        "    c = golden_ratio(b,a)\n",
        "    d = golden_ratio(a,b)\n",
        "    oldfc = fc\n",
        "    oldfd = fd\n",
        "    fc = function(c)\n",
        "    fd = function(d)\n",
        "    if (fc < fd):\n",
        "      b = d\n",
        "    else:\n",
        "      a = c\n",
        "    iterations += 1\n",
        "  return (c + d) / 2, iterations"
      ]
    },
    {
      "cell_type": "markdown",
      "source": [
        "Also for comparison of my implementation and implementation from lecutre, i paste this implementation, and i also implemented here counter of iterations.\n"
      ],
      "metadata": {
        "id": "ClRJqqu7e4tN"
      }
    },
    {
      "cell_type": "code",
      "source": [
        "import math\n",
        "def golden_section_line_search(a,b,f,L):\n",
        "    x = a\n",
        "    y = b\n",
        "    iterations = 0\n",
        "    while y-x>2*L:\n",
        "        gr = (math.sqrt(5)-1)/2\n",
        "        d = x + gr*(y-x)\n",
        "        c = y - gr*(y-x)\n",
        "        if f(d)>f(c):\n",
        "            y = d\n",
        "        else:\n",
        "            x = c\n",
        "        iterations += 1\n",
        "    return (x+y)/2, iterations"
      ],
      "metadata": {
        "id": "8Hh1jTSYd-rR"
      },
      "execution_count": null,
      "outputs": []
    },
    {
      "cell_type": "markdown",
      "source": [
        "Results:"
      ],
      "metadata": {
        "id": "eBHBEP7jezz8"
      }
    },
    {
      "cell_type": "code",
      "source": [
        "res_my = golden_section_method(0,2,0.0001,function_one)\n",
        "if res_my == -1:\n",
        "  print(\"Invali input!\")\n",
        "else:\n",
        "  optimum_my = res_my[0]\n",
        "  iterations_my = res_my[1]\n",
        "\n",
        "  res_lecture = golden_section_line_search(0,2,function_one,0.0001)\n",
        "  optimum_lecture = res_lecture[0]\n",
        "  iterations_lecture = res_lecture[1]\n",
        "\n",
        "  print(f\"My optimal point of function f(x) = (1-x)^2 - x in interval: [0,2] is {optimum_my} and number of iterations: {iterations_my}.\")\n",
        "  print(f\"Lecture optimal point of function f(x) = (1-x)^2 - x in interval: [0,2] is {optimum_lecture} and number of iterations: {iterations_lecture}.\")"
      ],
      "metadata": {
        "colab": {
          "base_uri": "https://localhost:8080/"
        },
        "id": "gPnCXgu0ezCl",
        "outputId": "d1e61602-118b-4850-87af-95f7e57325db"
      },
      "execution_count": null,
      "outputs": [
        {
          "output_type": "stream",
          "name": "stdout",
          "text": [
            "My optimal point of function f(x) = (1-x)^2 - x in interval: [0,2] is 0.49652781126692946 and number of iterations: 11.\n",
            "Lecture optimal point of function f(x) = (1-x)^2 - x in interval: [0,2] is 0.4999795718254958 and number of iterations: 20.\n"
          ]
        }
      ]
    },
    {
      "cell_type": "markdown",
      "source": [
        "# Conclusion:\n",
        "Bisection method\n",
        "- with the same input parameters in both implementations, mine - with different stopping criteria - was evaluate with little less iterations and more precision:\n",
        "- My optimal point: 0.5078125 number of iterations: 7.\n",
        "- Lecture optimal point: 0.499028447265625 and number of iterations: 10.\n",
        "\n",
        "Golden section method\n",
        "- with the same input parameters in both implementations, mine has just a little worst precision but twice less iterations:\n",
        "- My optimal point: 0.49652781126692946 and number of iterations: 11.\n",
        "- Lecture optimal point: 0.4999795718254958 and number of iterations: 20.\n"
      ],
      "metadata": {
        "id": "2VD-s7kufUJD"
      }
    }
  ]
}