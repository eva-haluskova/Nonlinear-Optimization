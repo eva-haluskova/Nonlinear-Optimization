{
  "nbformat": 4,
  "nbformat_minor": 0,
  "metadata": {
    "colab": {
      "provenance": []
    },
    "kernelspec": {
      "name": "python3",
      "display_name": "Python 3"
    },
    "language_info": {
      "name": "python"
    }
  },
  "cells": [
    {
      "cell_type": "markdown",
      "source": [
        "# Task 1"
      ],
      "metadata": {
        "id": "XautOJx_9Hto"
      }
    },
    {
      "cell_type": "markdown",
      "source": [
        "Implement a function that calculates a continuous approximation of the grade of this course (grading rules given in the first lecture). That is, the function takes as input the number of points received in the course and the maximal number of points and gives as output a value so that the integer part of that is the grade.\n",
        "\n",
        "*For example, the output would be of maximal points 20 and 13 points, could be 2.5, and, thus, the grade is 2. Note that you can make the function linear. Add also checking for incorrect input.*"
      ],
      "metadata": {
        "id": "fuWUMj1g7yry"
      }
    },
    {
      "cell_type": "markdown",
      "source": [
        "The grading:\\\n",
        "90% or more of the points -> grade 5,\\\n",
        "80% or more of the points -> grade 4,\\\n",
        "70% or more of the points -> grade 3,\\\n",
        "60% or more of the points -> grade 2,\\\n",
        "50% or more of the points -> grade 1,\\\n",
        "Less than 50% of the points -> failed."
      ],
      "metadata": {
        "id": "KM2ELRKv8lY-"
      }
    },
    {
      "cell_type": "code",
      "execution_count": null,
      "metadata": {
        "id": "dFj2U98j7lZQ"
      },
      "outputs": [],
      "source": [
        "def grade(par_recived_points, par_maximum_points):\n",
        "  # check of imputs - if inputs aren't numbers or are negative\n",
        "  if not isinstance(par_recived_points, (int, float)):\n",
        "    return -1\n",
        "  elif not isinstance(par_maximum_points, (int, float)):\n",
        "    return -1\n",
        "  if par_recived_points < 0 or par_maximum_points < 0:\n",
        "    return -1\n",
        "\n",
        "  # calculation of ration and return grade\n",
        "  ratio = par_recived_points / par_maximum_points\n",
        "  if ratio >= 0.9:\n",
        "    return 5\n",
        "  elif ratio >= 0.8:\n",
        "    return 4\n",
        "  elif ratio >= 0.7:\n",
        "    return 3\n",
        "  elif ratio >= 0.6:\n",
        "    return 2\n",
        "  elif ratio >= 0.5:\n",
        "    return 1\n",
        "  else:\n",
        "    return 0"
      ]
    },
    {
      "cell_type": "markdown",
      "source": [
        "Testing of the method"
      ],
      "metadata": {
        "id": "w-sr6pap-qY1"
      }
    },
    {
      "cell_type": "code",
      "source": [
        "recived_points = 17.9  # place to change inputs to negative numbers or string for testing\n",
        "maximum_points = 20\n",
        "\n",
        "result = grade(recived_points,maximum_points)\n",
        "\n",
        "if result != -1:\n",
        "  print(f\"With your {recived_points} recived points you achived grade {grade(recived_points,maximum_points)} of course\")\n",
        "else:\n",
        "  print(\"You entered the wrong entry!\")"
      ],
      "metadata": {
        "colab": {
          "base_uri": "https://localhost:8080/"
        },
        "id": "Ap8YKsEFbfW6",
        "outputId": "e4e9d125-b44e-4c7e-cd2c-f6cb034c2163"
      },
      "execution_count": null,
      "outputs": [
        {
          "output_type": "stream",
          "name": "stdout",
          "text": [
            "With your 17.9 recived points you achived grade 4 of course\n"
          ]
        }
      ]
    },
    {
      "cell_type": "markdown",
      "source": [
        "# Task 2"
      ],
      "metadata": {
        "id": "d3sCiOJz9M-N"
      }
    },
    {
      "cell_type": "markdown",
      "source": [
        "Make a script that finds **the minimum number of points that gives a given grade**. That is, your script should take as input the maximal number of points and the desired grade. Your solution **has to call** the function defined in task 1 above. Add also checking for incorrect input."
      ],
      "metadata": {
        "id": "he61BLb88RsK"
      }
    },
    {
      "cell_type": "code",
      "source": [
        "import math"
      ],
      "metadata": {
        "id": "xl2Kujcc-5Si"
      },
      "execution_count": null,
      "outputs": []
    },
    {
      "cell_type": "code",
      "source": [
        "def minimum_points_for_grade(par_maximum_points,par_grade):\n",
        "  # check of inputs\n",
        "\n",
        "  # if grade input is a decimal number, it rounds down\n",
        "  # another option could be treat this input like incorrect\n",
        "  if isinstance(par_grade,float) :\n",
        "    par_grade = math.floor(par_grade)\n",
        "  # if inputs aren't numbers or are negative\n",
        "  if not isinstance(par_grade, (int, float)):\n",
        "    return -1\n",
        "  elif not isinstance(par_maximum_points, (int, float)):\n",
        "    return -1\n",
        "  if par_grade < 0 or par_maximum_points < 0:\n",
        "    return -1\n",
        "  # if desire grade is 0 - it's unnecessarily continue in function\n",
        "  if par_grade == 0:\n",
        "    return 0\n",
        "\n",
        "  # algorithm\n",
        "  step = 1 # (you can change to smaller decimal number, but it change nothing in fact) (make sence in finding max number of points)\n",
        "  start = 0\n",
        "  actual_grade = 0\n",
        "  points = 0 - step\n",
        "\n",
        "  while actual_grade != par_grade:\n",
        "    points += step\n",
        "    actual_grade = grade(points, par_maximum_points)\n",
        "\n",
        "  return points"
      ],
      "metadata": {
        "id": "BHjBfLR9fTGH"
      },
      "execution_count": null,
      "outputs": []
    },
    {
      "cell_type": "markdown",
      "source": [
        "Testing of the method"
      ],
      "metadata": {
        "id": "Pz8EeKKdArrx"
      }
    },
    {
      "cell_type": "code",
      "source": [
        "desire_grade = 4\n",
        "maximum_points = 38\n",
        "\n",
        "result = minimum_points_for_grade(maximum_points,desire_grade)\n",
        "\n",
        "if result != -1:\n",
        "  print(f\"If you want to have grade {desire_grade}, you must have minimum {result}\")\n",
        "else:\n",
        "  print(\"You entered the wrong entry!\")"
      ],
      "metadata": {
        "colab": {
          "base_uri": "https://localhost:8080/"
        },
        "id": "C6WQPHrDyW6A",
        "outputId": "299a0161-3093-493c-a8aa-5c0f03199745"
      },
      "execution_count": null,
      "outputs": [
        {
          "output_type": "stream",
          "name": "stdout",
          "text": [
            "If you want to have grade 4, you must have minimum 31\n"
          ]
        }
      ]
    }
  ]
}